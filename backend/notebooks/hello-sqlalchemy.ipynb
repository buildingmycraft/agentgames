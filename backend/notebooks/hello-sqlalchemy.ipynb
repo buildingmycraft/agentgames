{
 "cells": [
  {
   "cell_type": "markdown",
   "id": "c0409f5d-b676-48cc-9f64-89992a72cd58",
   "metadata": {},
   "source": [
    "# Hello SQL Alchemy\n",
    "\n",
    "This is a tutorial guide on using SQL alchemy to interact with a postgres database.\n",
    "\n",
    "It assumes there exists an `.env` file that contains the database connection information including, `DB_USER`, `DB_PASS`, `DB_PORT`, `DB_ENDPOINT` and `DB_NAME`, or these variables are loaded into the environment by some other means.\n",
    "\n",
    "Based on [this tutorial from SQLAlchemy docs](https://docs.sqlalchemy.org/en/20/tutorial/)."
   ]
  },
  {
   "cell_type": "markdown",
   "id": "72900afd-9495-4ed0-ab6c-591c96fe1bf0",
   "metadata": {},
   "source": [
    "## Load variables to form database connection string "
   ]
  },
  {
   "cell_type": "code",
   "execution_count": 1,
   "id": "614ddbca-d739-4b70-a3f6-e93a7dd8b558",
   "metadata": {},
   "outputs": [],
   "source": [
    "import dotenv\n",
    "import os"
   ]
  },
  {
   "cell_type": "code",
   "execution_count": 2,
   "id": "533efc1f-3241-473f-9868-62b4e4ab6f8b",
   "metadata": {
    "editable": true,
    "slideshow": {
     "slide_type": ""
    },
    "tags": []
   },
   "outputs": [
    {
     "data": {
      "text/plain": [
       "True"
      ]
     },
     "execution_count": 2,
     "metadata": {},
     "output_type": "execute_result"
    }
   ],
   "source": [
    "dotenv.load_dotenv()"
   ]
  },
  {
   "cell_type": "code",
   "execution_count": 3,
   "id": "a0d6e196",
   "metadata": {},
   "outputs": [],
   "source": [
    "db_user = os.getenv(\"DB_USER\")\n",
    "db_pass = os.getenv(\"DB_PASS\")\n",
    "db_port = os.getenv(\"DB_PORT\")\n",
    "db_name = os.getenv(\"DB_NAME\")\n",
    "db_endpoint = os.getenv(\"DB_ENDPOINT\")"
   ]
  },
  {
   "cell_type": "markdown",
   "id": "11ff29c6-4e47-453f-9d61-d84566ad04e7",
   "metadata": {},
   "source": [
    "## Connect to the database"
   ]
  },
  {
   "cell_type": "code",
   "execution_count": 4,
   "id": "6cabfd34",
   "metadata": {},
   "outputs": [],
   "source": [
    "from sqlalchemy import create_engine"
   ]
  },
  {
   "cell_type": "code",
   "execution_count": 5,
   "id": "54cf57d5-2159-44f7-80cd-02bd53a2fa9b",
   "metadata": {},
   "outputs": [],
   "source": [
    "engine = create_engine(\n",
    "    f\"postgresql+psycopg2://{db_user}:{db_pass}@{db_endpoint}:{db_port}/{db_name}\"\n",
    ")"
   ]
  },
  {
   "cell_type": "markdown",
   "id": "cc1b2515-4d66-420d-9d2d-1992a25d87f5",
   "metadata": {},
   "source": [
    "## Making a connection"
   ]
  },
  {
   "cell_type": "code",
   "execution_count": 6,
   "id": "8a867829-6a47-462d-9f5a-802c4cfaf7e8",
   "metadata": {},
   "outputs": [],
   "source": [
    "from sqlalchemy import text"
   ]
  },
  {
   "cell_type": "code",
   "execution_count": 7,
   "id": "a96d35f3-75c5-4e75-a92b-048093f932fc",
   "metadata": {},
   "outputs": [
    {
     "name": "stdout",
     "output_type": "stream",
     "text": [
      "[('hello world',)]\n"
     ]
    }
   ],
   "source": [
    "with engine.connect() as conn:\n",
    "    result = conn.execute(text(\"select 'hello world'\"))\n",
    "    print(result.all())"
   ]
  },
  {
   "cell_type": "markdown",
   "id": "5dd464d0-924e-415f-869b-5c7ad289c8c0",
   "metadata": {},
   "source": [
    "## Creating tables"
   ]
  },
  {
   "cell_type": "code",
   "execution_count": 8,
   "id": "115fd3df-06f8-49e3-a99f-697fdda6fa4e",
   "metadata": {},
   "outputs": [],
   "source": [
    "from typing import Optional\n",
    "from datetime import datetime \n",
    "from sqlalchemy.orm import (\n",
    "    DeclarativeBase,\n",
    "    Mapped,\n",
    "    mapped_column,\n",
    "    relationship,\n",
    ")\n",
    "from sqlalchemy import ForeignKey\n",
    "from sqlalchemy.dialects.postgresql import JSONB"
   ]
  },
  {
   "cell_type": "code",
   "execution_count": 9,
   "id": "1ae9e7dd-3cd8-4826-a35f-d3445876d348",
   "metadata": {},
   "outputs": [],
   "source": [
    "class Base(DeclarativeBase):\n",
    "    type_annotation_map = {\n",
    "        dict: JSONB\n",
    "    }"
   ]
  },
  {
   "cell_type": "code",
   "execution_count": 10,
   "id": "33fb86b9-d369-41ff-a9a8-1e204c6f75a9",
   "metadata": {},
   "outputs": [],
   "source": [
    "class Task(Base):\n",
    "    __tablename__ = \"test_task\"\n",
    "\n",
    "    tid: Mapped[str] = mapped_column(primary_key=True)\n",
    "    description: Mapped[str]\n",
    "    solution: Mapped[Optional[str]]\n",
    "\n",
    "    sessions: Mapped[list[\"Session\"]] = relationship(back_populates=\"task\")\n",
    "\n",
    "\n",
    "class Session(Base):\n",
    "    __tablename__ = \"test_session\"\n",
    "    \n",
    "    sid: Mapped[str] = mapped_column(primary_key=True)\n",
    "    start_ts: Mapped[datetime]\n",
    "    tid: Mapped[Optional[str]] = mapped_column(ForeignKey(\"test_task.tid\"))\n",
    "    \n",
    "    task: Mapped[Optional[\"Task\"]] = relationship(back_populates=\"sessions\")\n",
    "    messages: Mapped[list[\"Message\"]] = relationship(back_populates=\"session\")\n",
    "    prediction: Mapped[Optional[\"Prediction\"]] = relationship(back_populates=\"session\")\n",
    "\n",
    "\n",
    "class Prediction(Base):\n",
    "    __tablename__ = \"test_prediction\"\n",
    "\n",
    "    pid: Mapped[str] = mapped_column(primary_key=True)\n",
    "    prediction: Mapped[str]\n",
    "    sid: Mapped[str] = mapped_column(ForeignKey(\"test_session.sid\"))\n",
    "\n",
    "    session: Mapped[\"Session\"] = relationship(back_populates=\"prediction\")\n",
    "\n",
    "                                     \n",
    "class Message(Base):\n",
    "    __tablename__ = \"test_message\"\n",
    "\n",
    "    mid: Mapped[str] = mapped_column(primary_key=True)\n",
    "    ts: Mapped[datetime]\n",
    "    content: Mapped[str]\n",
    "    sid: Mapped[str] = mapped_column(ForeignKey(\"test_session.sid\"))\n",
    "    aid: Mapped[str] = mapped_column(ForeignKey(\"test_agent.aid\"))\n",
    "\n",
    "    session: Mapped[\"Session\"] = relationship(back_populates=\"messages\")\n",
    "    agent: Mapped[\"Agent\"] = relationship(back_populates=\"messages\")\n",
    "    \n",
    "    \n",
    "class Agent(Base):\n",
    "    __tablename__ = \"test_agent\"\n",
    "\n",
    "    aid: Mapped[str] = mapped_column(primary_key=True)\n",
    "    role: Mapped[str]\n",
    "    name: Mapped[str]\n",
    "    \n",
    "    messages: Mapped[list[\"Message\"]] = relationship(back_populates=\"agent\")\n",
    "    checkpoints: Mapped[Optional[list[\"ModelCheckpoint\"]]] = relationship(back_populates=\"agent\")\n",
    "\n",
    "\n",
    "class ModelCheckpoint(Base):\n",
    "    __tablename__ = \"test_checkpoint\"\n",
    "\n",
    "    cid: Mapped[str] = mapped_column(primary_key=True)\n",
    "    aid: Mapped[str] = mapped_column(ForeignKey(\"test_agent.aid\"))\n",
    "    url: Mapped[str]\n",
    "    ts: Mapped[datetime]\n",
    "    params: Mapped[Optional[dict]]\n",
    "\n",
    "    agent: Mapped[\"Agent\"] = relationship(back_populates=\"checkpoints\")"
   ]
  },
  {
   "cell_type": "code",
   "execution_count": 11,
   "id": "7edffb7e-bd05-4015-972e-a0d5093510fc",
   "metadata": {},
   "outputs": [],
   "source": [
    "Base.metadata.create_all(engine, checkfirst=False)  "
   ]
  },
  {
   "cell_type": "markdown",
   "id": "4c6fc5f3-1d53-40ee-95e7-fa62e75beec3",
   "metadata": {},
   "source": [
    "## Insert data "
   ]
  },
  {
   "cell_type": "code",
   "execution_count": 12,
   "id": "adf1f534-570e-4b18-aefa-bddb06db700b",
   "metadata": {},
   "outputs": [],
   "source": [
    "from sqlalchemy.orm import Session as SQLSession "
   ]
  },
  {
   "cell_type": "code",
   "execution_count": 13,
   "id": "c92a24e0-c7f5-443b-9b4a-0c134e839e6a",
   "metadata": {},
   "outputs": [],
   "source": [
    "def get_session():\n",
    "    return {\n",
    "        \"sid\": \"SID123\",\n",
    "        \"start_ts\": datetime.now(),\n",
    "    }\n",
    "\n",
    "def get_task():\n",
    "    return {\n",
    "        \"tid\": \"TID123\",\n",
    "        \"description\": \"problem description...\",\n",
    "        \"solution\": \"<answer>\",\n",
    "    }\n",
    "\n",
    "def get_messages():\n",
    "    return [\n",
    "        {\"mid\": \"mid001\",  \"content\": \"prompt...\", \"ts\": datetime.now(),\n",
    "             \"agent\": {\"aid\": \"aid123\",  \"role\": \"user\", \"name\": \"Kevin\"}},\n",
    "        {\"mid\": \"mid002\", \"content\": \"response...\", \"ts\": datetime.now(),\n",
    "             \"agent\": {\"aid\": \"aid345\", \"role\": \"agent\", \"name\": \"numina\"}},\n",
    "        {\"mid\": \"mid003\", \"content\": \"message...\", \"ts\": datetime.now(),\n",
    "             \"agent\": {\"aid\": \"aid123\", \"role\": \"user\", \"name\": \"Kevin\"}},\n",
    "        {\"mid\": \"mid004\", \"content\": \"response...\", \"ts\": datetime.now(),\n",
    "             \"agent\": {\"aid\": \"aid345\", \"role\": \"agent\", \"name\": \"numina\"}},\n",
    "    ]\n",
    "\n",
    "_session = get_session()\n",
    "_task = get_task()\n",
    "_messages = get_messages()"
   ]
  },
  {
   "cell_type": "code",
   "execution_count": 14,
   "id": "f884e8fb-a892-4f8b-892e-4755e5ea1edd",
   "metadata": {},
   "outputs": [],
   "source": [
    "# insert session\n",
    "session = Session(**_session)"
   ]
  },
  {
   "cell_type": "code",
   "execution_count": 15,
   "id": "4d276736-2109-476e-81b1-c9f450eca6c1",
   "metadata": {},
   "outputs": [],
   "source": [
    "# insert tasks\n",
    "task = Task(**_task)"
   ]
  },
  {
   "cell_type": "code",
   "execution_count": 16,
   "id": "57b3ada9-dc8d-4722-a6bc-03c592a044d7",
   "metadata": {},
   "outputs": [],
   "source": [
    "# update session with task id\n",
    "session.tid = task.tid\n",
    "session.task = task"
   ]
  },
  {
   "cell_type": "code",
   "execution_count": 17,
   "id": "28299e59-3f50-4544-9881-9450740d55be",
   "metadata": {},
   "outputs": [],
   "source": [
    "# insert messages and agents\n",
    "agents = {}\n",
    "for _msg in _messages:\n",
    "    _agent = _msg[\"agent\"]\n",
    "    message = Message(\n",
    "        mid=_msg[\"mid\"],\n",
    "        content=_msg[\"content\"],\n",
    "        ts=_msg[\"ts\"],\n",
    "        sid=_session[\"sid\"],\n",
    "        aid=_agent[\"aid\"],\n",
    "    )\n",
    "    if not (aid := _agent[\"aid\"]) in agents:\n",
    "        agent = Agent(**_agent)\n",
    "        agents[aid] = agent\n",
    "    message.agent = agents[aid]\n",
    "    message.session = session"
   ]
  },
  {
   "cell_type": "code",
   "execution_count": 18,
   "id": "059b8c39-a703-4cb6-91b7-4e66035a6207",
   "metadata": {},
   "outputs": [],
   "source": [
    "# add to session\n",
    "with SQLSession(engine) as sql_session:\n",
    "    sql_session.add(session)\n",
    "    sql_session.commit()"
   ]
  },
  {
   "cell_type": "markdown",
   "id": "649b1aba-52ad-4c32-a4af-34ef63c914e0",
   "metadata": {},
   "source": [
    "## Example Query"
   ]
  },
  {
   "cell_type": "code",
   "execution_count": 19,
   "id": "5414d7e4-d2fb-4a63-8672-7dc7bcaf62e0",
   "metadata": {},
   "outputs": [],
   "source": [
    "from sqlalchemy import select"
   ]
  },
  {
   "cell_type": "code",
   "execution_count": 20,
   "id": "11101a6b-4cb7-4b59-9aef-676e5ca3bc4a",
   "metadata": {},
   "outputs": [
    {
     "name": "stdout",
     "output_type": "stream",
     "text": [
      "[(<__main__.Message object at 0x7733489e3500>,), (<__main__.Message object at 0x7733489e3530>,), (<__main__.Message object at 0x7733489e3560>,), (<__main__.Message object at 0x7733489e3590>,)]\n"
     ]
    }
   ],
   "source": [
    "# using SQLAlchemy ORM, which returns objects\n",
    "with SQLSession(engine) as sql_session:\n",
    "    stmt = select(Message).order_by(Message.ts)\n",
    "    print(sql_session.execute(stmt).all())"
   ]
  },
  {
   "cell_type": "code",
   "execution_count": 21,
   "id": "ff43d591-c629-4d50-a0ac-a0ae5be19524",
   "metadata": {},
   "outputs": [
    {
     "name": "stdout",
     "output_type": "stream",
     "text": [
      "{'mid': 'mid001', 'ts': datetime.datetime(2024, 11, 25, 22, 44, 45, 948198), 'content': 'prompt...', 'sid': 'SID123', 'aid': 'aid123'}\n",
      "{'mid': 'mid002', 'ts': datetime.datetime(2024, 11, 25, 22, 44, 45, 948199), 'content': 'response...', 'sid': 'SID123', 'aid': 'aid345'}\n",
      "{'mid': 'mid003', 'ts': datetime.datetime(2024, 11, 25, 22, 44, 45, 948200), 'content': 'message...', 'sid': 'SID123', 'aid': 'aid123'}\n",
      "{'mid': 'mid004', 'ts': datetime.datetime(2024, 11, 25, 22, 44, 45, 948200), 'content': 'response...', 'sid': 'SID123', 'aid': 'aid345'}\n"
     ]
    }
   ],
   "source": [
    "# using SQLAlchemy core, which returns raw results\n",
    "with engine.connect() as conn:\n",
    "    stmt = select(Message).order_by(Message.ts)\n",
    "    for row in conn.execute(stmt):\n",
    "        print(dict(zip(stmt.selected_columns.keys(), row)))"
   ]
  },
  {
   "cell_type": "markdown",
   "id": "9299735e-ccc2-4425-814c-3aad811c5ab5",
   "metadata": {},
   "source": [
    "## Clean up test tables "
   ]
  },
  {
   "cell_type": "code",
   "execution_count": 22,
   "id": "82929eb5",
   "metadata": {},
   "outputs": [],
   "source": [
    "Base.metadata.drop_all(engine)"
   ]
  }
 ],
 "metadata": {
  "kernelspec": {
   "display_name": "Python [conda env:agentgames]",
   "language": "python",
   "name": "conda-env-agentgames-py"
  },
  "language_info": {
   "codemirror_mode": {
    "name": "ipython",
    "version": 3
   },
   "file_extension": ".py",
   "mimetype": "text/x-python",
   "name": "python",
   "nbconvert_exporter": "python",
   "pygments_lexer": "ipython3",
   "version": "3.12.7"
  }
 },
 "nbformat": 4,
 "nbformat_minor": 5
}
